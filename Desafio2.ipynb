{
 "cells": [
  {
   "cell_type": "markdown",
   "id": "e4b89b9d",
   "metadata": {},
   "source": [
    "# ALUNOS: \n",
    "\n"
   ]
  },
  {
   "cell_type": "markdown",
   "id": "5afa8893",
   "metadata": {},
   "source": [
    "\n",
    "# CIÊNCIA DE DADOS\n",
    "## Desafio 2: Previsão da ocupação hospitalar\n",
    "\n",
    "### Etapas:\n",
    "- Entendimento do problema \n",
    "- Tratamento dos Dados\n",
    "- Visualização dos dados\n",
    "- Análise Exploratória dos Dados\n",
    "- Aprendizado de máquina\n",
    "\n",
    "O **desafio** consiste na previsão de ocupação hospitalar, focando na análise dos dados de atendimentos do pronto atendimento. \n",
    "\n",
    "O **objetivo** é identificar os fatores que podem influenciar ou aumentar o número de entradas de pacientes nesse serviço. As causas para o aumento das entradas podem ser diversas e depender de diferentes variáveis. A partir da análise desses dados, o desafio é desenvolver modelos preditivos que ajudem a antecipar a demanda do pronto atendimento, permitindo uma melhor gestão da ocupação hospitalar e a alocação eficiente de recursos.\n",
    "\n",
    "Serão fornecidos os seguintes dados para a análise:\n",
    "- ID do atendimento\n",
    "- Data/hora da entrada \n",
    "- CID\n",
    "- Data de nascimento\n",
    "- Sexo \n",
    "- Clínica \n",
    "- Convenio \n",
    "- Classificação de Risco\n",
    "- Motivo da Alta \n",
    "- Data da Alta \n",
    "."
   ]
  },
  {
   "cell_type": "markdown",
   "id": "3542c592",
   "metadata": {},
   "source": [
    "## Importar as bibliotecas necessárias e a base de dados. Realizar a visualização da mesma "
   ]
  },
  {
   "cell_type": "code",
   "execution_count": null,
   "id": "b2058c43",
   "metadata": {},
   "outputs": [],
   "source": []
  },
  {
   "cell_type": "markdown",
   "id": "2efc3b52",
   "metadata": {},
   "source": [
    "## Tratamento dos dados: verificar e corrigir o domínios dos campos, se há dados faltantes, verificar cardinalidade, identificar colunas categóricas, de visualizar as informações estatísticas da base (dados numéricos e não numéricos)"
   ]
  },
  {
   "cell_type": "code",
   "execution_count": null,
   "id": "a3e1f663",
   "metadata": {},
   "outputs": [],
   "source": []
  },
  {
   "cell_type": "markdown",
   "id": "87450976",
   "metadata": {},
   "source": [
    "## Visualizando de forma gráfica: utilizar as boas práticas de visualização de dados"
   ]
  },
  {
   "cell_type": "code",
   "execution_count": null,
   "id": "3b89bbc1",
   "metadata": {},
   "outputs": [],
   "source": []
  },
  {
   "cell_type": "markdown",
   "id": "5a4b7186",
   "metadata": {},
   "source": [
    "## Análise Exploratória dos dados \n",
    "\n",
    "**O boxplot**\n",
    "\n",
    "- Permite visualizar os percentis e valores máximo e mínimo dos dados\n",
    "- Permite visualizar, além de simetria e dispersão dos dados, valores extremos (outliers)\n",
    "- O valor máximo e mínimo são calculados baseado no interquartil"
   ]
  },
  {
   "cell_type": "code",
   "execution_count": null,
   "id": "96330eb5",
   "metadata": {},
   "outputs": [],
   "source": []
  },
  {
   "cell_type": "markdown",
   "id": "b68525c0",
   "metadata": {},
   "source": [
    "**Criando uma matriz para mostrar a correlação de cada par de variáveis**"
   ]
  },
  {
   "cell_type": "code",
   "execution_count": 2,
   "id": "bc5ab8ea",
   "metadata": {},
   "outputs": [],
   "source": [
    "# Apresentar a matriz de correção da base"
   ]
  },
  {
   "cell_type": "code",
   "execution_count": 3,
   "id": "a40b717a",
   "metadata": {},
   "outputs": [],
   "source": [
    "# Apresentar a matriz de correlação da base plotando no pairplot"
   ]
  },
  {
   "cell_type": "markdown",
   "id": "2561a4b3",
   "metadata": {},
   "source": [
    "## Visualizando apenas o KDE**\n",
    "- KDE: Kernel Density Estimation\n",
    "    - Mede a chance de uma variável aleatória assumir determinado valor\n",
    "    - A probabilidade é dada pela integral abaixo da curva na faixa de valor selecionada\n",
    "- Parece uma \"versão de linha suavizada\" de um histograma"
   ]
  },
  {
   "cell_type": "code",
   "execution_count": null,
   "id": "81dca9bb",
   "metadata": {},
   "outputs": [],
   "source": []
  },
  {
   "cell_type": "markdown",
   "id": "768ec177",
   "metadata": {},
   "source": [
    "## Heatmap de correlação"
   ]
  },
  {
   "cell_type": "code",
   "execution_count": null,
   "id": "620aeabd-e34a-43af-9c4e-b45a3fd70fb7",
   "metadata": {},
   "outputs": [],
   "source": []
  },
  {
   "cell_type": "markdown",
   "id": "f47b454f-16d1-4d9c-a2b4-5a1def9439b3",
   "metadata": {},
   "source": [
    "## Aprendizado de Máquina\n",
    "\n",
    "- Definir 3 algorítmos de aprendizado de máquina a ser testado no Desafio\n"
   ]
  },
  {
   "cell_type": "code",
   "execution_count": 4,
   "id": "962c7c0b-2d8d-41dc-af65-bacb9935a090",
   "metadata": {},
   "outputs": [],
   "source": [
    "# Importar as bibliotecas necessárias\n",
    "# Definir as variáveis de input e a target\n",
    "# Dividir a base de dados em treino e teste\n"
   ]
  },
  {
   "cell_type": "code",
   "execution_count": 5,
   "id": "1dbfc69d-bf2c-4bc4-b901-dd811372fa09",
   "metadata": {},
   "outputs": [],
   "source": [
    "# Treinar o modelo\n",
    "# Predizer o modelo\n",
    "# Avaliar o modelo\n"
   ]
  },
  {
   "cell_type": "markdown",
   "id": "736e1864-6c20-444f-84c1-86876af808c6",
   "metadata": {},
   "source": [
    "## Apresente uma conclusão para o desafio, demonstrando graficamente"
   ]
  },
  {
   "cell_type": "code",
   "execution_count": null,
   "id": "2128e51c-e7bf-4069-845f-73b1be6c5feb",
   "metadata": {},
   "outputs": [],
   "source": []
  }
 ],
 "metadata": {
  "kernelspec": {
   "display_name": "Python 3 (ipykernel)",
   "language": "python",
   "name": "python3"
  },
  "language_info": {
   "codemirror_mode": {
    "name": "ipython",
    "version": 3
   },
   "file_extension": ".py",
   "mimetype": "text/x-python",
   "name": "python",
   "nbconvert_exporter": "python",
   "pygments_lexer": "ipython3",
   "version": "3.12.4"
  }
 },
 "nbformat": 4,
 "nbformat_minor": 5
}
